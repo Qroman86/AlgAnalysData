{
 "cells": [
  {
   "cell_type": "code",
   "execution_count": 1,
   "metadata": {},
   "outputs": [],
   "source": [
    "from sklearn.tree import DecisionTreeRegressor\n",
    "\n",
    "from sklearn import model_selection\n",
    "import numpy as np\n"
   ]
  },
  {
   "cell_type": "code",
   "execution_count": 2,
   "metadata": {},
   "outputs": [],
   "source": [
    "from sklearn.datasets import load_diabetes"
   ]
  },
  {
   "cell_type": "code",
   "execution_count": 3,
   "metadata": {},
   "outputs": [],
   "source": [
    "X, y = load_diabetes(return_X_y=True)"
   ]
  },
  {
   "cell_type": "code",
   "execution_count": 4,
   "metadata": {},
   "outputs": [],
   "source": [
    "X_train, X_test, y_train, y_test = model_selection.train_test_split(X, y, test_size=0.25)"
   ]
  },
  {
   "cell_type": "code",
   "execution_count": 5,
   "metadata": {},
   "outputs": [],
   "source": [
    "def gb_predict(X, trees_list, coef_list, eta):\n",
    "    # Реализуемый алгоритм градиентного бустинга будет инициализироваться нулевыми значениями,\n",
    "    # поэтому все деревья из списка trees_list уже являются дополнительными и при предсказании прибавляются с шагом eta\n",
    "    return np.array([sum([eta* coef * alg.predict([x])[0] for alg, coef in zip(trees_list, coef_list)]) for x in X])"
   ]
  },
  {
   "cell_type": "code",
   "execution_count": 6,
   "metadata": {},
   "outputs": [],
   "source": [
    "def mean_squared_error(y_real, prediction):\n",
    "    return (sum((y_real - prediction)**2)) / len(y_real)"
   ]
  },
  {
   "cell_type": "code",
   "execution_count": 7,
   "metadata": {},
   "outputs": [],
   "source": [
    "def bias(y, z):\n",
    "    return (y - z)"
   ]
  },
  {
   "cell_type": "code",
   "execution_count": 8,
   "metadata": {},
   "outputs": [],
   "source": [
    "def gb_fit(n_trees, max_depth, X_train, X_test, y_train, y_test, coefs, eta):\n",
    "    \n",
    "    # Деревья будем записывать в список\n",
    "    trees = []\n",
    "    \n",
    "    # Будем записывать ошибки на обучающей и тестовой выборке на каждой итерации в список\n",
    "    train_errors = []\n",
    "    test_errors = []\n",
    "    \n",
    "    for i in range(n_trees):\n",
    "        tree = DecisionTreeRegressor(max_depth=max_depth, random_state=42)\n",
    "\n",
    "        # инициализируем бустинг начальным алгоритмом, возвращающим ноль, \n",
    "        # поэтому первый алгоритм просто обучаем на выборке и добавляем в список\n",
    "        if len(trees) == 0:\n",
    "            # обучаем первое дерево на обучающей выборке\n",
    "            tree.fit(X_train, y_train)\n",
    "            \n",
    "            train_errors.append(mean_squared_error(y_train, gb_predict(X_train, trees, coefs, eta)))\n",
    "            test_errors.append(mean_squared_error(y_test, gb_predict(X_test, trees, coefs, eta)))\n",
    "        else:\n",
    "            # Получим ответы на текущей композиции\n",
    "            target = gb_predict(X_train, trees, coefs, eta)\n",
    "            \n",
    "            # алгоритмы начиная со второго обучаем на сдвиг\n",
    "            tree.fit(X_train, bias(y_train, target))\n",
    "            \n",
    "            train_errors.append(mean_squared_error(y_train, gb_predict(X_train, trees, coefs, eta)))\n",
    "            test_errors.append(mean_squared_error(y_test, gb_predict(X_test, trees, coefs, eta)))\n",
    "\n",
    "        trees.append(tree)\n",
    "        \n",
    "    return trees, train_errors, test_errors"
   ]
  },
  {
   "cell_type": "code",
   "execution_count": 9,
   "metadata": {},
   "outputs": [],
   "source": [
    "# Число деревьев в ансамбле\n",
    "n_trees = 10\n",
    "\n",
    "# для простоты примем коэффициенты равными 1\n",
    "coefs = [1] * n_trees\n",
    "\n",
    "# Максимальная глубина деревьев\n",
    "max_depth = 3\n",
    "\n",
    "# Шаг\n",
    "eta = 1\n",
    "\n",
    "trees, train_errors, test_errors = gb_fit(n_trees, max_depth, X_train, X_test, y_train, y_test, coefs, eta)"
   ]
  },
  {
   "cell_type": "code",
   "execution_count": 19,
   "metadata": {},
   "outputs": [],
   "source": [
    "def evaluate_alg(X_train, X_test, y_train, y_test, trees, coefs, eta, n_trees, max_depth):\n",
    "    train_prediction = gb_predict(X_train, trees, coefs, eta)\n",
    "\n",
    "    print(f'Ошибка алгоритма из {n_trees} деревьев глубиной {max_depth} \\\n",
    "    с шагом {eta} на тренировочной выборке: {mean_squared_error(y_train, train_prediction)}')\n",
    "\n",
    "    test_prediction = gb_predict(X_test, trees, coefs, eta)\n",
    "\n",
    "    print(f'Ошибка алгоритма из {n_trees} деревьев глубиной {max_depth} \\\n",
    "    с шагом {eta} на тестовой выборке: {mean_squared_error(y_test, test_prediction)}')\n",
    "    return mean_squared_error(y_train, train_prediction), mean_squared_error(y_test, test_prediction)"
   ]
  },
  {
   "cell_type": "code",
   "execution_count": 20,
   "metadata": {},
   "outputs": [],
   "source": [
    "def set_and_evaluate_alg(X_train, X_test, y_train, y_test, n_trees, max_depth, eta = 1):\n",
    "    # для простоты примем коэффициенты равными 1\n",
    "    coefs = [1] * n_trees\n",
    "    trees, train_errors, test_errors = gb_fit(n_trees, max_depth, X_train, X_test, y_train, y_test, coefs, eta)\n",
    "    return evaluate_alg(X_train, X_test, y_train, y_test, trees, coefs, eta, n_trees, max_depth)"
   ]
  },
  {
   "cell_type": "code",
   "execution_count": 15,
   "metadata": {},
   "outputs": [],
   "source": [
    "def iterate_n_trees(X_train, X_test, y_train, y_test, start_n_trees,  stop_n_trees, max_depth, eta, step_n_trees = 1):\n",
    "    n_trees = []\n",
    "    mse_tests = []\n",
    "    mse_trains = []\n",
    "    for n_tree in range(start_n_trees, stop_n_trees, step_n_trees):\n",
    "        print(n_tree)\n",
    "        mse_train, mse_test = set_and_evaluate_alg(X_train, X_test, y_train, y_test, n_tree, max_depth, eta)\n",
    "        mse_trains.append(mse_train)\n",
    "        mse_tests.append(mse_test)\n",
    "        n_trees.append(n_tree)\n",
    "    return n_trees, mse_trains, mse_tests"
   ]
  },
  {
   "cell_type": "code",
   "execution_count": 53,
   "metadata": {},
   "outputs": [],
   "source": [
    "def iterate_max_depths(X_train, X_test, y_train, y_test, start_max_depths,  stop_max_depths, n_tree, eta, step_max_depths = 1):\n",
    "    max_depths = []\n",
    "    mse_tests = []\n",
    "    mse_trains = []\n",
    "    for max_depth in range(start_max_depths, stop_max_depths, step_max_depths):        \n",
    "        print(max_depth)\n",
    "        mse_train, mse_test = set_and_evaluate_alg(X_train, X_test, y_train, y_test, n_tree, max_depth, eta)\n",
    "        mse_trains.append(mse_train)\n",
    "        mse_tests.append(mse_test)\n",
    "        max_depths.append(max_depth)\n",
    "    return max_depths, mse_trains, mse_tests"
   ]
  },
  {
   "cell_type": "code",
   "execution_count": 57,
   "metadata": {},
   "outputs": [
    {
     "name": "stdout",
     "output_type": "stream",
     "text": [
      "5\n",
      "Ошибка алгоритма из 5 деревьев глубиной 5     с шагом 1 на тренировочной выборке: 420.8380678821685\n",
      "Ошибка алгоритма из 5 деревьев глубиной 5     с шагом 1 на тестовой выборке: 4884.71017844528\n",
      "10\n",
      "Ошибка алгоритма из 10 деревьев глубиной 5     с шагом 1 на тренировочной выборке: 115.57651075685904\n",
      "Ошибка алгоритма из 10 деревьев глубиной 5     с шагом 1 на тестовой выборке: 4899.115180694547\n",
      "15\n",
      "Ошибка алгоритма из 15 деревьев глубиной 5     с шагом 1 на тренировочной выборке: 24.720882522470298\n",
      "Ошибка алгоритма из 15 деревьев глубиной 5     с шагом 1 на тестовой выборке: 5261.282830027574\n",
      "20\n",
      "Ошибка алгоритма из 20 деревьев глубиной 5     с шагом 1 на тренировочной выборке: 5.558028338905026\n",
      "Ошибка алгоритма из 20 деревьев глубиной 5     с шагом 1 на тестовой выборке: 5401.336997461661\n",
      "25\n",
      "Ошибка алгоритма из 25 деревьев глубиной 5     с шагом 1 на тренировочной выборке: 1.3611203776581837\n",
      "Ошибка алгоритма из 25 деревьев глубиной 5     с шагом 1 на тестовой выборке: 5413.271008561529\n",
      "30\n",
      "Ошибка алгоритма из 30 деревьев глубиной 5     с шагом 1 на тренировочной выборке: 0.2060788411752255\n",
      "Ошибка алгоритма из 30 деревьев глубиной 5     с шагом 1 на тестовой выборке: 5410.69781161498\n",
      "35\n",
      "Ошибка алгоритма из 35 деревьев глубиной 5     с шагом 1 на тренировочной выборке: 0.048348804789956956\n",
      "Ошибка алгоритма из 35 деревьев глубиной 5     с шагом 1 на тестовой выборке: 5421.826927872293\n",
      "40\n",
      "Ошибка алгоритма из 40 деревьев глубиной 5     с шагом 1 на тренировочной выборке: 0.012234008835542941\n",
      "Ошибка алгоритма из 40 деревьев глубиной 5     с шагом 1 на тестовой выборке: 5421.637983256678\n",
      "45\n",
      "Ошибка алгоритма из 45 деревьев глубиной 5     с шагом 1 на тренировочной выборке: 0.0018990413760255885\n",
      "Ошибка алгоритма из 45 деревьев глубиной 5     с шагом 1 на тестовой выборке: 5420.952758254884\n"
     ]
    }
   ],
   "source": [
    "n_trees, mse_trains, mse_tests = iterate_n_trees(X_train, X_test, y_train, y_test, start_n_trees = 5,  stop_n_trees = 50, max_depth = 5, eta = 1, step_n_trees = 5)"
   ]
  },
  {
   "cell_type": "code",
   "execution_count": 23,
   "metadata": {},
   "outputs": [],
   "source": [
    "import matplotlib.pyplot as plt"
   ]
  },
  {
   "cell_type": "code",
   "execution_count": 60,
   "metadata": {},
   "outputs": [],
   "source": [
    "def get_error_plot(x_dots, train_err, test_err, xlabel, xlim_delta=30):\n",
    "    plt.xlabel(xlabel)\n",
    "    plt.ylabel('MSE')\n",
    "    plt.xlim(0, x_dots[-1]+xlim_delta)\n",
    "    \n",
    "    plt.plot(x_dots, train_err, label='train error')\n",
    "    plt.plot(x_dots, test_err, label='test error')\n",
    "    plt.legend(loc='upper right')\n",
    "    plt.show()\n",
    "    "
   ]
  },
  {
   "cell_type": "code",
   "execution_count": 61,
   "metadata": {},
   "outputs": [
    {
     "data": {
      "image/png": "[encoded data removed]",
      "text/plain": [
       "<Figure size 432x288 with 1 Axes>"
      ]
     },
     "metadata": {
      "needs_background": "light"
     },
     "output_type": "display_data"
    }
   ],
   "source": [
    "get_error_plot(n_trees, mse_trains, mse_tests, 'n_trees')"
   ]
  },
  {
   "cell_type": "code",
   "execution_count": 54,
   "metadata": {},
   "outputs": [
    {
     "name": "stdout",
     "output_type": "stream",
     "text": [
      "3\n",
      "Ошибка алгоритма из 25 деревьев глубиной 3     с шагом 1 на тренировочной выборке: 306.5272679694674\n",
      "Ошибка алгоритма из 25 деревьев глубиной 3     с шагом 1 на тестовой выборке: 6955.330415026244\n",
      "4\n",
      "Ошибка алгоритма из 25 деревьев глубиной 4     с шагом 1 на тренировочной выборке: 71.37808121369922\n",
      "Ошибка алгоритма из 25 деревьев глубиной 4     с шагом 1 на тестовой выборке: 7072.491896777587\n",
      "5\n",
      "Ошибка алгоритма из 25 деревьев глубиной 5     с шагом 1 на тренировочной выборке: 1.3611203776581837\n",
      "Ошибка алгоритма из 25 деревьев глубиной 5     с шагом 1 на тестовой выборке: 5413.271008561529\n",
      "6\n",
      "Ошибка алгоритма из 25 деревьев глубиной 6     с шагом 1 на тренировочной выборке: 0.01531360438746997\n",
      "Ошибка алгоритма из 25 деревьев глубиной 6     с шагом 1 на тестовой выборке: 6203.142820561852\n",
      "7\n",
      "Ошибка алгоритма из 25 деревьев глубиной 7     с шагом 1 на тренировочной выборке: 1.4586517006003846e-05\n",
      "Ошибка алгоритма из 25 деревьев глубиной 7     с шагом 1 на тестовой выборке: 5942.64428832103\n",
      "8\n",
      "Ошибка алгоритма из 25 деревьев глубиной 8     с шагом 1 на тренировочной выборке: 3.0242753437459595e-09\n",
      "Ошибка алгоритма из 25 деревьев глубиной 8     с шагом 1 на тестовой выборке: 6716.511353042588\n",
      "9\n",
      "Ошибка алгоритма из 25 деревьев глубиной 9     с шагом 1 на тренировочной выборке: 2.5414948152533274e-15\n",
      "Ошибка алгоритма из 25 деревьев глубиной 9     с шагом 1 на тестовой выборке: 5740.517699743859\n",
      "10\n",
      "Ошибка алгоритма из 25 деревьев глубиной 10     с шагом 1 на тренировочной выборке: 0.0\n",
      "Ошибка алгоритма из 25 деревьев глубиной 10     с шагом 1 на тестовой выборке: 6561.9892949795\n",
      "11\n",
      "Ошибка алгоритма из 25 деревьев глубиной 11     с шагом 1 на тренировочной выборке: 0.0\n",
      "Ошибка алгоритма из 25 деревьев глубиной 11     с шагом 1 на тестовой выборке: 5821.45411470495\n",
      "12\n",
      "Ошибка алгоритма из 25 деревьев глубиной 12     с шагом 1 на тренировочной выборке: 0.0\n",
      "Ошибка алгоритма из 25 деревьев глубиной 12     с шагом 1 на тестовой выборке: 5903.9067437634985\n",
      "13\n",
      "Ошибка алгоритма из 25 деревьев глубиной 13     с шагом 1 на тренировочной выборке: 0.0\n",
      "Ошибка алгоритма из 25 деревьев глубиной 13     с шагом 1 на тестовой выборке: 5546.502334834835\n",
      "14\n",
      "Ошибка алгоритма из 25 деревьев глубиной 14     с шагом 1 на тренировочной выборке: 0.0\n",
      "Ошибка алгоритма из 25 деревьев глубиной 14     с шагом 1 на тестовой выборке: 6186.188618618618\n"
     ]
    }
   ],
   "source": [
    "max_depths, mse_trains_md, mse_tests_md = iterate_max_depths(X_train, X_test, y_train, y_test, start_max_depths = 3,  stop_max_depths = 15, n_tree = 25, eta = 1, step_max_depths = 1)"
   ]
  },
  {
   "cell_type": "code",
   "execution_count": 64,
   "metadata": {},
   "outputs": [
    {
     "data": {
      "image/png": "[encoded data removed]",
      "text/plain": [
       "<Figure size 432x288 with 1 Axes>"
      ]
     },
     "metadata": {
      "needs_background": "light"
     },
     "output_type": "display_data"
    }
   ],
   "source": [
    "get_error_plot(max_depths, mse_trains_md, mse_tests_md, 'max_depths', xlim_delta = 7)"
   ]
  },
  {
   "cell_type": "code",
   "execution_count": 52,
   "metadata": {},
   "outputs": [
    {
     "data": {
      "text/plain": [
       "[]"
      ]
     },
     "execution_count": 52,
     "metadata": {},
     "output_type": "execute_result"
    }
   ],
   "source": [
    "#Выводы - с ростом числа деревьев растет MSE на тесте, выходя затем на плато. \n",
    "#С ростом максимальной глубины величина MSE на тесте колеблется вверх-вниз, при этом наблюдается некоторый тренд на снижение.  \n"
   ]
  },
  {
   "cell_type": "code",
   "execution_count": null,
   "metadata": {},
   "outputs": [],
   "source": []
  }
 ],
 "metadata": {
  "kernelspec": {
   "display_name": "Python 3",
   "language": "python",
   "name": "python3"
  },
  "language_info": {
   "codemirror_mode": {
    "name": "ipython",
    "version": 3
   },
   "file_extension": ".py",
   "mimetype": "text/x-python",
   "name": "python",
   "nbconvert_exporter": "python",
   "pygments_lexer": "ipython3",
   "version": "3.8.5"
  }
 },
 "nbformat": 4,
 "nbformat_minor": 4
}
